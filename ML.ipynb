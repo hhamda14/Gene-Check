{
 "cells": [
  {
   "cell_type": "code",
   "execution_count": 6,
   "id": "5089e18d-1e5b-4e74-a4ff-d54e1827b59d",
   "metadata": {},
   "outputs": [],
   "source": [
    "import pandas as pd\n",
    "import numpy as np\n",
    "import seaborn as sns\n",
    "import matplotlib.pyplot as plt\n",
    "import warnings\n",
    "from sklearn.feature_extraction.text import CountVectorizer\n",
    "from sklearn.model_selection import train_test_split\n",
    "from sklearn.ensemble import RandomForestClassifier\n",
    "from sklearn.metrics import classification_report, accuracy_score"
   ]
  },
  {
   "cell_type": "code",
   "execution_count": 7,
   "id": "458397f8-a268-46ff-b627-76314141734b",
   "metadata": {},
   "outputs": [],
   "source": [
    "df = pd.read_csv(\"filtered_dataset.csv\")"
   ]
  },
  {
   "cell_type": "code",
   "execution_count": 8,
   "id": "fea5fb78-46a6-4492-91fc-ac4fcc95b3e2",
   "metadata": {},
   "outputs": [
    {
     "name": "stdout",
     "output_type": "stream",
     "text": [
      "Filtered dataset saved as filtered_dataset.csv with 154 rows.\n"
     ]
    }
   ],
   "source": [
    "# === Drop duplicate sequences ===\n",
    "df = df.drop_duplicates(subset=\"sequence\")\n",
    "\n",
    "# Drop rows where any column has a missing value\n",
    "df = df.dropna()\n",
    "\n",
    "# === Save the final filtered dataset ===\n",
    "df.to_csv(\"filtered_dataset.csv\", index=False)\n",
    "\n",
    "print(f\"Filtered dataset saved as filtered_dataset.csv with {len(df)} rows.\")"
   ]
  },
  {
   "cell_type": "code",
   "execution_count": null,
   "id": "25aad472-99e8-4150-8611-56a637def748",
   "metadata": {},
   "outputs": [],
   "source": []
  }
 ],
 "metadata": {
  "kernelspec": {
   "display_name": "base",
   "language": "python",
   "name": "python3"
  },
  "language_info": {
   "codemirror_mode": {
    "name": "ipython",
    "version": 3
   },
   "file_extension": ".py",
   "mimetype": "text/x-python",
   "name": "python",
   "nbconvert_exporter": "python",
   "pygments_lexer": "ipython3",
   "version": "3.13.5"
  }
 },
 "nbformat": 4,
 "nbformat_minor": 5
}
