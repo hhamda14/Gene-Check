{
 "cells": [
  {
   "cell_type": "code",
   "execution_count": 1,
   "id": "5089e18d-1e5b-4e74-a4ff-d54e1827b59d",
   "metadata": {},
   "outputs": [],
   "source": [
    "import pandas as pd\n",
    "import numpy as np\n",
    "import seaborn as sns\n",
    "import matplotlib.pyplot as plt\n",
    "import warnings\n",
    "from sklearn.feature_extraction.text import CountVectorizer\n",
    "from sklearn.model_selection import train_test_split\n",
    "from sklearn.ensemble import RandomForestClassifier\n",
    "from sklearn.metrics import classification_report, accuracy_score"
   ]
  },
  {
   "cell_type": "code",
   "execution_count": 2,
   "id": "458397f8-a268-46ff-b627-76314141734b",
   "metadata": {},
   "outputs": [],
   "source": [
    "df1 = pd.read_csv(\"pdb_data_no_dups.csv\")\n",
    "df2 = pd.read_csv(\"pdb_data_seq.csv\")"
   ]
  },
  {
   "cell_type": "code",
   "execution_count": 3,
   "id": "3fd0d06c-2265-44d8-8723-e70421d6ab6b",
   "metadata": {},
   "outputs": [],
   "source": [
    "# === Keep only the required columns & rename ===\n",
    "df1_filtered = df1[[\"structureId\", \"classification\", \"macromoleculeType\", \"residueCount\", \"resolution\"]]\n",
    "df1_filtered = df1_filtered.rename(columns={\n",
    "    \"residueCount\": \"residueCount_df1\",\n",
    "    \"macromoleculeType\": \"macromoleculeType_df1\"\n",
    "})\n",
    "\n",
    "df2_filtered = df2[[\"structureId\", \"sequence\", \"residueCount\"]]\n",
    "df2_filtered = df2_filtered.rename(columns={\n",
    "    \"residueCount\": \"residueCount_df2\"\n",
    "})"
   ]
  },
  {
   "cell_type": "code",
   "execution_count": 4,
   "id": "fea5fb78-46a6-4492-91fc-ac4fcc95b3e2",
   "metadata": {},
   "outputs": [
    {
     "name": "stdout",
     "output_type": "stream",
     "text": [
      "Filtered dataset saved as filtered_dataset.csv with 154 rows.\n"
     ]
    }
   ],
   "source": [
    "# === Merge on structureId ===\n",
    "merged_df = pd.merge(df1_filtered, df2_filtered, on=\"structureId\", how=\"inner\")\n",
    "\n",
    "# === Drop duplicate sequences ===\n",
    "merged_df = merged_df.drop_duplicates(subset=\"sequence\")\n",
    "\n",
    "# Drop rows where any column has a missing value\n",
    "merged_df = merged_df.dropna()\n",
    "\n",
    "# === Save the final filtered dataset ===\n",
    "merged_df.to_csv(\"filtered_dataset.csv\", index=False)\n",
    "\n",
    "print(f\"Filtered dataset saved as filtered_dataset.csv with {len(merged_df)} rows.\")"
   ]
  },
  {
   "cell_type": "code",
   "execution_count": null,
   "id": "25aad472-99e8-4150-8611-56a637def748",
   "metadata": {},
   "outputs": [],
   "source": []
  }
 ],
 "metadata": {
  "kernelspec": {
   "display_name": "Python [conda env:base] *",
   "language": "python",
   "name": "conda-base-py"
  },
  "language_info": {
   "codemirror_mode": {
    "name": "ipython",
    "version": 3
   },
   "file_extension": ".py",
   "mimetype": "text/x-python",
   "name": "python",
   "nbconvert_exporter": "python",
   "pygments_lexer": "ipython3",
   "version": "3.13.5"
  }
 },
 "nbformat": 4,
 "nbformat_minor": 5
}
